{
 "cells": [
  {
   "cell_type": "code",
   "execution_count": 104,
   "outputs": [],
   "source": [
    "import pandas as pd\n",
    "import torch.nn as nn\n",
    "import torch"
   ],
   "metadata": {
    "collapsed": false,
    "pycharm": {
     "name": "#%%\n"
    }
   }
  },
  {
   "cell_type": "code",
   "execution_count": 105,
   "outputs": [
    {
     "data": {
      "text/plain": "                                                   title  \\\nid                                                         \n0      House Dem Aide: We Didn’t Even See Comey’s Let...   \n1      FLYNN: Hillary Clinton, Big Woman on Campus - ...   \n2                      Why the Truth Might Get You Fired   \n3      15 Civilians Killed In Single US Airstrike Hav...   \n4      Iranian woman jailed for fictional unpublished...   \n...                                                  ...   \n20795  Rapper T.I.: Trump a ’Poster Child For White S...   \n20796  N.F.L. Playoffs: Schedule, Matchups and Odds -...   \n20797  Macy’s Is Said to Receive Takeover Approach by...   \n20798  NATO, Russia To Hold Parallel Exercises In Bal...   \n20799                          What Keeps the F-35 Alive   \n\n                                          author  \\\nid                                                 \n0                                  Darrell Lucus   \n1                                Daniel J. Flynn   \n2                             Consortiumnews.com   \n3                                Jessica Purkiss   \n4                                 Howard Portnoy   \n...                                          ...   \n20795                              Jerome Hudson   \n20796                           Benjamin Hoffman   \n20797  Michael J. de la Merced and Rachel Abrams   \n20798                                Alex Ansary   \n20799                              David Swanson   \n\n                                                    text  label  \nid                                                               \n0      House Dem Aide: We Didn’t Even See Comey’s Let...      1  \n1      Ever get the feeling your life circles the rou...      0  \n2      Why the Truth Might Get You Fired October 29, ...      1  \n3      Videos 15 Civilians Killed In Single US Airstr...      1  \n4      Print \\nAn Iranian woman has been sentenced to...      1  \n...                                                  ...    ...  \n20795  Rapper T. I. unloaded on black celebrities who...      0  \n20796  When the Green Bay Packers lost to the Washing...      0  \n20797  The Macy’s of today grew from the union of sev...      0  \n20798  NATO, Russia To Hold Parallel Exercises In Bal...      1  \n20799    David Swanson is an author, activist, journa...      1  \n\n[20800 rows x 4 columns]",
      "text/html": "<div>\n<style scoped>\n    .dataframe tbody tr th:only-of-type {\n        vertical-align: middle;\n    }\n\n    .dataframe tbody tr th {\n        vertical-align: top;\n    }\n\n    .dataframe thead th {\n        text-align: right;\n    }\n</style>\n<table border=\"1\" class=\"dataframe\">\n  <thead>\n    <tr style=\"text-align: right;\">\n      <th></th>\n      <th>title</th>\n      <th>author</th>\n      <th>text</th>\n      <th>label</th>\n    </tr>\n    <tr>\n      <th>id</th>\n      <th></th>\n      <th></th>\n      <th></th>\n      <th></th>\n    </tr>\n  </thead>\n  <tbody>\n    <tr>\n      <th>0</th>\n      <td>House Dem Aide: We Didn’t Even See Comey’s Let...</td>\n      <td>Darrell Lucus</td>\n      <td>House Dem Aide: We Didn’t Even See Comey’s Let...</td>\n      <td>1</td>\n    </tr>\n    <tr>\n      <th>1</th>\n      <td>FLYNN: Hillary Clinton, Big Woman on Campus - ...</td>\n      <td>Daniel J. Flynn</td>\n      <td>Ever get the feeling your life circles the rou...</td>\n      <td>0</td>\n    </tr>\n    <tr>\n      <th>2</th>\n      <td>Why the Truth Might Get You Fired</td>\n      <td>Consortiumnews.com</td>\n      <td>Why the Truth Might Get You Fired October 29, ...</td>\n      <td>1</td>\n    </tr>\n    <tr>\n      <th>3</th>\n      <td>15 Civilians Killed In Single US Airstrike Hav...</td>\n      <td>Jessica Purkiss</td>\n      <td>Videos 15 Civilians Killed In Single US Airstr...</td>\n      <td>1</td>\n    </tr>\n    <tr>\n      <th>4</th>\n      <td>Iranian woman jailed for fictional unpublished...</td>\n      <td>Howard Portnoy</td>\n      <td>Print \\nAn Iranian woman has been sentenced to...</td>\n      <td>1</td>\n    </tr>\n    <tr>\n      <th>...</th>\n      <td>...</td>\n      <td>...</td>\n      <td>...</td>\n      <td>...</td>\n    </tr>\n    <tr>\n      <th>20795</th>\n      <td>Rapper T.I.: Trump a ’Poster Child For White S...</td>\n      <td>Jerome Hudson</td>\n      <td>Rapper T. I. unloaded on black celebrities who...</td>\n      <td>0</td>\n    </tr>\n    <tr>\n      <th>20796</th>\n      <td>N.F.L. Playoffs: Schedule, Matchups and Odds -...</td>\n      <td>Benjamin Hoffman</td>\n      <td>When the Green Bay Packers lost to the Washing...</td>\n      <td>0</td>\n    </tr>\n    <tr>\n      <th>20797</th>\n      <td>Macy’s Is Said to Receive Takeover Approach by...</td>\n      <td>Michael J. de la Merced and Rachel Abrams</td>\n      <td>The Macy’s of today grew from the union of sev...</td>\n      <td>0</td>\n    </tr>\n    <tr>\n      <th>20798</th>\n      <td>NATO, Russia To Hold Parallel Exercises In Bal...</td>\n      <td>Alex Ansary</td>\n      <td>NATO, Russia To Hold Parallel Exercises In Bal...</td>\n      <td>1</td>\n    </tr>\n    <tr>\n      <th>20799</th>\n      <td>What Keeps the F-35 Alive</td>\n      <td>David Swanson</td>\n      <td>David Swanson is an author, activist, journa...</td>\n      <td>1</td>\n    </tr>\n  </tbody>\n</table>\n<p>20800 rows × 4 columns</p>\n</div>"
     },
     "execution_count": 105,
     "metadata": {},
     "output_type": "execute_result"
    }
   ],
   "source": [
    "data = pd.read_csv('../data/train.csv', index_col=0)\n",
    "data"
   ],
   "metadata": {
    "collapsed": false,
    "pycharm": {
     "name": "#%%\n"
    }
   }
  },
  {
   "cell_type": "code",
   "execution_count": 106,
   "outputs": [
    {
     "data": {
      "text/plain": "1    10413\n0    10387\nName: label, dtype: int64"
     },
     "execution_count": 106,
     "metadata": {},
     "output_type": "execute_result"
    }
   ],
   "source": [
    "data.label.value_counts()"
   ],
   "metadata": {
    "collapsed": false,
    "pycharm": {
     "name": "#%%\n"
    }
   }
  },
  {
   "cell_type": "code",
   "execution_count": 107,
   "outputs": [
    {
     "data": {
      "text/plain": "id\n0        House Dem Aide: We Didn’t Even See Comey’s Let...\n1        FLYNN: Hillary Clinton, Big Woman on Campus - ...\n2        Why the Truth Might Get You Fired  Why the Tru...\n3        15 Civilians Killed In Single US Airstrike Hav...\n4        Iranian woman jailed for fictional unpublished...\n                               ...                        \n20795    Rapper T.I.: Trump a ’Poster Child For White S...\n20796    N.F.L. Playoffs: Schedule, Matchups and Odds -...\n20797    Macy’s Is Said to Receive Takeover Approach by...\n20798    NATO, Russia To Hold Parallel Exercises In Bal...\n20799    What Keeps the F-35 Alive    David Swanson is ...\nLength: 20800, dtype: object"
     },
     "execution_count": 107,
     "metadata": {},
     "output_type": "execute_result"
    }
   ],
   "source": [
    "features = data['title'] + '  ' + data['text']\n",
    "features"
   ],
   "metadata": {
    "collapsed": false,
    "pycharm": {
     "name": "#%%\n"
    }
   }
  },
  {
   "cell_type": "code",
   "execution_count": 108,
   "outputs": [
    {
     "data": {
      "text/plain": "       label\nid          \n0          1\n1          0\n2          1\n3          1\n4          1\n...      ...\n20795      0\n20796      0\n20797      0\n20798      1\n20799      1\n\n[20800 rows x 1 columns]",
      "text/html": "<div>\n<style scoped>\n    .dataframe tbody tr th:only-of-type {\n        vertical-align: middle;\n    }\n\n    .dataframe tbody tr th {\n        vertical-align: top;\n    }\n\n    .dataframe thead th {\n        text-align: right;\n    }\n</style>\n<table border=\"1\" class=\"dataframe\">\n  <thead>\n    <tr style=\"text-align: right;\">\n      <th></th>\n      <th>label</th>\n    </tr>\n    <tr>\n      <th>id</th>\n      <th></th>\n    </tr>\n  </thead>\n  <tbody>\n    <tr>\n      <th>0</th>\n      <td>1</td>\n    </tr>\n    <tr>\n      <th>1</th>\n      <td>0</td>\n    </tr>\n    <tr>\n      <th>2</th>\n      <td>1</td>\n    </tr>\n    <tr>\n      <th>3</th>\n      <td>1</td>\n    </tr>\n    <tr>\n      <th>4</th>\n      <td>1</td>\n    </tr>\n    <tr>\n      <th>...</th>\n      <td>...</td>\n    </tr>\n    <tr>\n      <th>20795</th>\n      <td>0</td>\n    </tr>\n    <tr>\n      <th>20796</th>\n      <td>0</td>\n    </tr>\n    <tr>\n      <th>20797</th>\n      <td>0</td>\n    </tr>\n    <tr>\n      <th>20798</th>\n      <td>1</td>\n    </tr>\n    <tr>\n      <th>20799</th>\n      <td>1</td>\n    </tr>\n  </tbody>\n</table>\n<p>20800 rows × 1 columns</p>\n</div>"
     },
     "execution_count": 108,
     "metadata": {},
     "output_type": "execute_result"
    }
   ],
   "source": [
    "target = data[['label']]\n",
    "target"
   ],
   "metadata": {
    "collapsed": false,
    "pycharm": {
     "name": "#%%\n"
    }
   }
  },
  {
   "cell_type": "code",
   "execution_count": 109,
   "outputs": [],
   "source": [
    "from torchtext import vocab\n",
    "from torchtext.data import get_tokenizer"
   ],
   "metadata": {
    "collapsed": false,
    "pycharm": {
     "name": "#%%\n"
    }
   }
  },
  {
   "cell_type": "code",
   "execution_count": 110,
   "outputs": [
    {
     "data": {
      "text/plain": "functools.partial(<function _spacy_tokenize at 0x00000189EBC72440>, spacy=<spacy.lang.en.English object at 0x00000189CEE25B10>)"
     },
     "execution_count": 110,
     "metadata": {},
     "output_type": "execute_result"
    }
   ],
   "source": [
    "tokenizer = get_tokenizer('spacy')\n",
    "tokenizer"
   ],
   "metadata": {
    "collapsed": false,
    "pycharm": {
     "name": "#%%\n"
    }
   }
  },
  {
   "cell_type": "code",
   "execution_count": 111,
   "outputs": [],
   "source": [
    "# vocabulary = vocab.build_vocab_from_iterator([tokenizer(str(x)) for x in features])\n",
    "# vocabulary.insert_token('<unk>',0)\n",
    "# vocabulary.set_default_index(0)"
   ],
   "metadata": {
    "collapsed": false,
    "pycharm": {
     "name": "#%%\n"
    }
   }
  },
  {
   "cell_type": "code",
   "execution_count": 112,
   "outputs": [],
   "source": [
    "# vocabulary.insert_token('<pad>',1)"
   ],
   "metadata": {
    "collapsed": false,
    "pycharm": {
     "name": "#%%\n"
    }
   }
  },
  {
   "cell_type": "code",
   "execution_count": 113,
   "outputs": [],
   "source": [
    "# torch.save(vocabulary, '../models/vocab.tp')"
   ],
   "metadata": {
    "collapsed": false,
    "pycharm": {
     "name": "#%%\n"
    }
   }
  },
  {
   "cell_type": "code",
   "execution_count": 114,
   "outputs": [],
   "source": [
    "vocabulary = torch.load('../models/vocab.tp')"
   ],
   "metadata": {
    "collapsed": false,
    "pycharm": {
     "name": "#%%\n"
    }
   }
  },
  {
   "cell_type": "code",
   "execution_count": 115,
   "outputs": [
    {
     "data": {
      "text/plain": "{'happy': 1653,\n 'counterpunches': 76293,\n 'pricier': 68508,\n 'checking': 5611,\n 'какими': 69669,\n 'Sill': 87870,\n 'capella': 182097,\n 'Bobbi': 63566,\n 'Berezovsky': 50007,\n 'Sort': 26794,\n 'voyeuristic': 79184,\n 'insatiable': 24715,\n 'thereafter': 11992,\n 'sicheres': 207354,\n 'affects': 7667,\n 'thinkers': 10068,\n 'Sliding': 110747,\n 'love': 651,\n 'sources': 1262,\n '—': 45,\n 'blockading': 75927,\n 'clarify': 8793,\n 'Orwell\\x92s': 162685,\n 'Genevieve': 72208,\n 'fruit': 5812,\n 'grossing': 52057,\n 'действий': 27844,\n 'point': 323,\n 'ATRAVESARÍA': 135505,\n 'Cancun': 57945,\n 'shortlist': 39989,\n 'Some': 464,\n '6:00': 9189,\n 'desperados': 67289,\n 'Brüksel’de': 140419,\n 'synthetics': 94357,\n '13679': 129701,\n 'guinda': 191189,\n '.': 4,\n 'DISCUSSION': 82779,\n 'DeLuca': 101718,\n 'doorbusters': 186425,\n 'Европейский': 62503,\n 'Yaman': 89226,\n '@lizzzznelson': 134737,\n 'Koali': 105530,\n 'Norgesic': 161773,\n 'restore': 4008,\n 'advice': 2208,\n 'dominant': 5743,\n 'aún': 32704,\n 'thunder': 24311,\n 'naranjoamericano': 199188,\n 'pushes': 11161,\n 'McLean': 37460,\n 'escasa': 188120,\n 'newspapers': 4645,\n 'Romansh': 87314,\n '<unk>': 0,\n '349': 42137,\n 'Informs': 72644,\n 'una': 3306,\n 'feelig': 189072,\n 'archery': 60411,\n 'Hatch': 7137,\n 'Τυνησία': 215577,\n 'Kousoulis': 64832,\n 'пали': 224225,\n 'threat': 772,\n 'distinta': 115923,\n 'detachable': 76441,\n 'U2': 36248,\n 'pillars': 13288,\n 'name': 476,\n 'killroom': 195595,\n 'ugly': 5255,\n 'motioned': 61526,\n 'اللاذقية': 229994,\n 'hitting': 4908,\n 'Pharaoh': 65514,\n 'scientists': 1624,\n 'Intersect': 153152,\n 'underground': 4565,\n 'fürchten': 190063,\n 'unsuited': 49491,\n 'costumes': 9399,\n 'shuttle': 16651,\n 'theophylline': 122569,\n 'Regulations': 25593,\n 'determined': 2030,\n 'enlist': 17452,\n 'анорексии': 124700,\n 'winner': 3089,\n 'whom': 965,\n '100.00': 97173,\n 'собственная': 227400,\n 'Healthwatch': 64520,\n 'Marry': 33522,\n 'communicate': 5909,\n 'plugging': 38275,\n 'Gürtel': 150537,\n 'ChicagoThursday2731': 142133,\n 'liberal': 1118,\n 'yam': 79278,\n 'confrontational': 16236,\n 'li': 77400,\n 'symbols': 8457,\n 'Wraith': 176761,\n 'toyed': 35509,\n 'rallied': 11001,\n 'n’t': 59,\n 'Weatherall': 89055,\n 'catapults': 48400,\n 'hums': 117826,\n 'United': 124,\n 'expandierten': 188597,\n 'NICS': 39073,\n 'lucidity': 118800,\n '15:32': 129918,\n 'diesel-': 185871,\n 'curiosity': 12684,\n 'وتُعدُّ': 231315,\n 'комплексу': 221801,\n 'band': 3256,\n 'Dreaded': 83135,\n 'Validators': 112320,\n 'white': 372,\n 'helping': 1600,\n 'podziału': 120436,\n 'overused': 52399,\n 'r7': 204411,\n 'Nancy': 5567,\n 'slanty': 207673,\n 'bingeing': 114277,\n 'frackers': 189752,\n 'an': 40,\n 'SARS': 65830,\n 'Brinig': 140268,\n 'participation': 4226,\n 'Blanck': 139625,\n 'depicting': 11138,\n 'stars': 2542,\n 'capitalism': 4089,\n 'adhered': 48254,\n 'Californication': 141334,\n 'ANNAPOLIS': 135392,\n 'billowing': 33810,\n 'surveyed': 9468,\n 'chalice': 90116,\n 'injunction': 11718,\n 'BBG': 28669,\n 'ultimate': 3571,\n 'Foster': 5209,\n 'meagre': 118996,\n 'If': 158,\n 'fois': 43473,\n 'ideologist': 77148,\n 'afirmaciones': 178351,\n 'playwright': 16282,\n 'QUID': 109060,\n 'operation': 1473,\n 'Seif': 74621,\n 'undecided': 8334,\n 'Puig': 19370,\n 'Democratic': 338,\n 'выступлениям': 219784,\n 'freedoms': 7896,\n 'HauserIllustrated': 151211,\n 'seeks': 4875,\n 'Introvert': 153175,\n 'Foreseeable': 148360,\n 'Schirach': 47993,\n 'compulsive': 24623,\n 'dailies': 55721,\n 'taxing': 18698,\n 'Святого': 217757,\n 'Jankowski': 50616,\n 'Port': 5955,\n '3000': 25988,\n 'dickhead': 90705,\n 'generaban': 190347,\n 'constitutionalism': 45667,\n 'York': 123,\n 'conversation': 1630,\n 'relied': 5619,\n 'sorts': 4753,\n 'approval': 2231,\n 'Berniecrat': 81867,\n 'Bounty': 100137,\n 'traffic': 2380,\n 'inférieure': 194265,\n 'Latest': 10948,\n 'Derechos': 71651,\n 'Clarence': 14890,\n 'romantic': 8190,\n 'Divisive': 53827,\n 'and': 7,\n 'представляется': 62719,\n 'dauntless': 90541,\n 'sympathies': 21063,\n 'gumballs': 191200,\n 'May': 638,\n 'illustrate': 14517,\n 'Damascus': 5736,\n 'Lindenauer': 64943,\n 'hiding': 4559,\n 'Forwarding': 103108,\n 'Warning-': 176036,\n 'Bartman': 53461,\n 'crane': 20316,\n 'orifice': 61626,\n 'Archangel': 46918,\n 'pavilions': 120122,\n 'smoke': 4029,\n 'mislead': 17920,\n 'shitless': 78545,\n 'Eola': 146747,\n '<pad>': 1,\n 'snicker': 68909,\n 'wilder': 79238,\n 'Ilia': 84554,\n 'archivées': 179462,\n 'Ainslie': 136097,\n 'Gerard': 20217,\n 'Progress': 7084,\n 'Prefecture': 39155,\n 'Spiro': 59889,\n 'трудно': 57308,\n 'Rewarding': 109549,\n 'Bolt': 15018,\n 'Saranac': 168407,\n 'shortlists': 94005,\n 'Handschuhe': 151004,\n 'points': 931,\n 'masturbatory': 197636,\n 'Echeverri': 83277,\n 'latest': 780,\n 'inevitability': 30012,\n 'billionaires': 6750,\n 'стилем': 127131,\n '”': 12,\n 'LISTEN': 11851,\n 'casualties': 4550,\n 'taxed': 12062,\n 'равновесие': 226302,\n 'correlación': 184100,\n 'Romney': 2727,\n 'Демократическая': 95284,\n 'immunology': 48816,\n ',': 2,\n 'Grows': 30465,\n 'actio': 113446,\n 'additionally': 25120,\n 'Digg': 21870,\n 'famous': 2299,\n 'perpetuated': 19505,\n 'bandied': 66858,\n 'Traveller': 111852,\n 'Antidoping': 44310,\n 's.': 27755,\n 'commutes': 31755,\n 'Yanhuang': 177021,\n 'evidence': 431,\n 'corresponding': 13972,\n 'strumento': 208733,\n 'Dobbins': 145282,\n 'butterfly': 18323,\n 'require': 1873,\n 'forthwith': 67624,\n 'NORTH': 34743,\n '\\x93believe\\x94': 214578,\n 'Sclerosus': 168829,\n 'Electile': 146392,\n 'Katherine': 18266,\n 'adaptation': 9913,\n 'Accompany': 98635,\n ')': 53,\n 'Shames': 74647,\n 'unconvincing': 44024,\n 'Champlain': 82413,\n 'every': 255,\n 'Resilient': 109498,\n 'formalize': 43477,\n 'reflection': 6549,\n \"WON'T\": 175792,\n 'Sakari': 168211,\n 'North': 364,\n 'NUSRA': 86107,\n 'criollas': 184411,\n 'Krugman': 15041,\n 'anesthesiologist': 45516,\n 'Justin': 4531,\n 'principale': 78096,\n 'Lydia': 27359,\n 'Pence': 1469,\n 'actuaries': 45492,\n 'inductee': 194140,\n 'pc': 120130,\n 'AMERICANS': 33254,\n '@PassionFootClub': 133833,\n 'terse': 24841,\n 'esclarezcan': 188129,\n 'terminate': 14865,\n 'way': 146,\n '@GStephanopoulos': 133379,\n '❤': 18207,\n 'Fajardo': 147636,\n 'WMDs': 43109,\n 'Coruption': 143232,\n 'tema': 25382,\n 'Alsatian': 81339,\n 'obligate': 119730,\n 'or': 49,\n 'رفضت': 230561,\n '1901': 27865,\n 'федеральном': 228859,\n 'Americans': 262,\n 'لدعم': 230886,\n 'Sniffs': 170251,\n 'broadly': 6084,\n 'redistribuição': 204947,\n 'Vodolazkin': 60172,\n 'Center': 812,\n 'orgasm': 29264,\n 'internees': 52159,\n 'Doing': 8129,\n 'День': 42013,\n 'Thrower': 172987,\n 'Wow': 7599,\n 'jungle': 8979,\n 'lengthy': 5414,\n 'JEFF': 84734,\n 'suffrage': 26479,\n 'primi': 203488,\n 'doubled': 6101,\n 'Koenig': 30516,\n 'Pothier': 86832,\n 'eases': 41402,\n 'Gary': 3898,\n 'religiosa': 121161,\n 'Greenspan': 37334,\n 'Heirloom': 104171,\n 'militarizing': 61486,\n 'impassive': 117942,\n 'Airton': 136125,\n 'credit': 1703,\n 'davranışlara': 184951,\n 'to': 5,\n 'Answers': 31278,\n '10': 339,\n 'campuses': 6298,\n 'rioter': 205883,\n 'counting': 5643,\n 'Ministra': 85884,\n 'быстро': 49606,\n 'manipulation': 5837,\n 'thuggery': 49425,\n 'Huizi': 152130,\n 'all': 66,\n 'NAATBatt': 160677,\n 'prescribe': 25320,\n 'dramatic': 4305,\n 'holdt': 192023,\n 'sequenced': 56678,\n 'ACCOMPANY': 98471,\n 'Accuracy': 22561,\n 'VAMC': 174737,\n 'message': 798,\n 'miracle': 7556,\n 'Helsinki': 28785,\n 'FILING': 102760,\n 'army': 1976,\n 'Okosagah': 162399,\n 'Carnage': 53612,\n 'Takahara': 111443,\n 'Conundrum': 101262,\n 'chidren': 182662,\n 'continue': 523,\n 'We\\x92re': 36292,\n 'Nice': 5629,\n 'quizá': 68579,\n 'Trikot': 173590,\n 'сделали': 30273,\n '28,5': 131021,\n 'invita': 194762,\n 'yantra': 52920,\n 'Evolutionary': 44588,\n 'Indira': 13927,\n 'cnbc.com': 114952,\n 'A.I.-Powered': 135148,\n 'Tellam': 88409,\n 'vase': 28570,\n 'Kourtney': 64831,\n 'Typically': 13694,\n '5:20': 57486,\n 'Broz': 140371,\n 'вечером': 95542,\n 'repellent': 22888,\n 'refashion': 78280,\n 'supercut': 122313,\n 'the': 3,\n 'Karolina': 72894,\n 'Mohamedou': 107143,\n 'экономиками': 229308,\n 'Paladin': 65458,\n 'curbed': 29093,\n 'downdraft': 90833,\n 'chattel': 60611,\n 'obsolescence': 61601,\n 'footfall': 189542,\n 'Eukeysha': 147023,\n 'Championship': 10937,\n 'alleging': 9874,\n '456': 70240,\n 'rba': 204617,\n 'clamping': 60622,\n 'bonding': 24098,\n 'требованиям': 69948,\n 'слез': 227266,\n 'Rise——-Back': 166965,\n 'non': 1326,\n 'obscured': 18397,\n 'face': 495,\n 'Starz“A': 170955,\n 'Aguinskoïé': 63243,\n 'Honeywell': 44719,\n 'Establish': 53903,\n 'Boycotts': 63588,\n 'Skelos': 32596,\n 'much': 161,\n 'Taras': 59991,\n 'meddle': 23264,\n 'unemployment': 3846,\n 'Red': 2634,\n '3.000': 131218,\n 'PHARMA': 65435,\n 'Financial': 4400,\n 'Dermer': 31373,\n 'Muftah': 107323,\n 'HUNGRY': 58570,\n 'cartoonists': 22743,\n 'hurtling': 29181,\n 'Thiong’o': 88453,\n 'firsthand': 12202,\n '25,000': 20773,\n 'Bankası': 63456,\n '100': 658,\n 'swastika': 19548,\n 'frequently': 2832,\n 'personable': 38268,\n 'Rejection': 42912,\n 'Copperfield': 143146,\n 'Chardin': 141956,\n 'NRA': 10139,\n 'Hamid': 21529,\n 'consulates': 33871,\n 'literalist': 196703,\n 'postures': 49122,\n 'magenta': 77474,\n 'Aleppo': 1016,\n 'Whimsical': 176375,\n 'Americas': 10132,\n 'Juergens': 154218,\n 'polarizing': 12325,\n 'radicalise': 204444,\n 'conclude': 6701,\n 'Elkhorn': 102440,\n 'victorioso': 212582,\n 'sucks': 17733,\n 'Korta': 155608,\n 'warned': 1472,\n 'Roger': 4163,\n 'Sarah': 4078,\n 'horsetail': 117712,\n 'CLEU': 140978,\n 'Comey': 482,\n 'neuer': 77735,\n 'promoters': 25859,\n 'Confiscate': 82598,\n 'spirit': 3181,\n 'porn': 11733,\n 'Glitch': 58506,\n 'violators': 27165,\n 'dîners': 186874,\n 'Merkelism': 159325,\n 'Rockville': 27431,\n '6:36': 97881,\n 'backtracked': 36360,\n 'thousands': 669,\n 'critical': 1411,\n 'VSV': 112296,\n 'Sum': 59945,\n 'ISIL': 4595,\n 'candidaturas': 182045,\n 'of': 6,\n 'STANDARD': 65850,\n 'Zoals': 177604,\n 'hackles': 61128,\n 'Slander': 170099,\n 'bike': 9585,\n 'Coolers': 143120,\n 'hyperactivity': 36585,\n 'seeing': 1628,\n 'GLADSTONE': 148896,\n 'Intersection': 58734,\n 'being': 132,\n 'sylvan': 94350,\n 'treasonous': 18703,\n 'Supreme': 996,\n 'nucleare': 49025,\n 'Libyan': 6202,\n 'jurado': 195326,\n 'SOS': 47964,\n 'chapped': 114794,\n 'seems': 668,\n 'completar': 183407,\n 'prudently': 52507,\n 'her': 61,\n 'outdoors': 17929,\n 'слюнтяев': 227317,\n 'Winless': 176568,\n 'ont': 14529,\n 'geschocktes': 190486,\n '!': 139,\n 'этнически': 229406,\n 'puerilely': 204069,\n 'rip': 12134,\n 'рецептуры': 226794,\n 'alien': 3838,\n 'nontravelers': 199735,\n 'iteration': 22406,\n 'Stater': 59907,\n 'snapper': 121939,\n 'exchanged': 9878,\n 'пригласит': 225667,\n 'guardia': 191150,\n 'авиации': 42027,\n 'Kuchum': 64849,\n 'gibi': 45892,\n 'council': 3608,\n 'NAFTA’ya': 160682,\n 'paedophile': 56420,\n 'sportsmanship': 52718,\n 'but': 56,\n 'whitewashed': 46606,\n 'phenomena': 13407,\n 'hedefimiz': 191661,\n 'forget': 2499,\n 'deviancy': 90689,\n 'странах': 27195,\n 'thinnest': 43991,\n 'Lib': 42685,\n '54': 5149,\n 'Philibert': 164108,\n 'unimpeded': 34302,\n 'Kong': 4128,\n 'Russia': 169,\n 'Breast': 23423,\n 'TAKEOVER': 171886,\n 'Investment': 8909,\n 'لوزيرة': 230957,\n 'Research': 2386,\n 'Record': 9014,\n '1776': 28627,\n 'Mrz': 160329,\n 'http://instagram.com/rt_documentary/': 61184,\n 'overturning': 18665,\n 'abstention': 24068,\n 'Catcalls': 71271,\n 'Initially': 13548,\n 'Nilas': 161587,\n 'XXI': 43136,\n 'small': 472,\n 'ansprechen': 179057,\n 'were': 55,\n 'Alegria': 98831,\n 'researching': 11165,\n 'INSCOM': 84506,\n 'independientes': 194081,\n 'Team': 4656,\n 'Artvest': 99213,\n 'cheat': 12105,\n 'Mutmain': 44966,\n 'Glacial': 83976,\n 'Okan': 162385,\n 'that': 10,\n 'Hornacek': 64580,\n 'underway': 4836,\n 'Magic': 8739,\n 'Galant': 50438,\n 'a': 8,\n 'rumer': 121396,\n 'wordy': 213587,\n 'DAR': 143763,\n 'Mossack': 15194,\n 'Bliskiego': 100003,\n 'steadily': 7527,\n 'turbulent': 15147,\n 'qualifies': 23762,\n 'Banker': 34441,\n 'Fargo': 4171,\n 'Weddings': 55296,\n 'timid': 21436,\n 'turrets': 122873,\n 'refinement': 38331,\n 'terms': 1052,\n 'относитесь': 224073,\n 'Schatzie': 168625,\n 'myths': 13048,\n 'group': 244,\n 'FOX5NY': 102786,\n 'Lamfalussy': 156378,\n 'midsection': 61483,\n 'Copland': 143142,\n 'activity': 1707,\n 'hose': 24703,\n 'Поделиться': 20474,\n 'Ahhh': 70613,\n 'posent': 202968,\n 'Vielen': 112450,\n 'Daily': 1043,\n 'estructuras': 91073,\n 'Nevada': 3002,\n 'about': 50,\n 'Defied': 71612,\n 'Stirs': 66117,\n 'Окт': 49590,\n 'malevolence': 48940,\n 'frisk': 28322,\n 'recent': 318,\n 'Уж': 124597,\n 'adapted': 10753,\n 'reasons': 1409,\n 'Wear': 16387,\n 'Serenaded': 169175,\n 'clearing': 8210,\n 'Vox': 14774,\n 'whiteboard': 49544,\n 'solidify': 27777,\n 'Technocracy': 75031,\n 'kicked': 4992,\n 'curation': 55709,\n 'K’aowedo': 105712,\n 'attire': 16036,\n 'etchings': 91081,\n 'продолжают': 40193,\n 'probably': 709,\n 'taping': 29368,\n 'uncreated': 123003,\n '1954': 13655,\n 'mood': 4383,\n 'الداخل': 229849,\n \"So'win\": 170276,\n 'customers': 1886,\n 'Mistura': 15670,\n 'Legislature': 7440,\n 'Севастополя': 124537,\n 'gridlock': 15728,\n 'LOSER': 85204,\n 'силами': 46748,\n 'Duarte': 28730,\n 'blogging': 43228,\n 'USS': 19113,\n 'in': 9,\n 'battlegroup': 75855,\n 'نهائي': 96886,\n 'practices': 2500,\n 'imbalance': 16613,\n 'alternatieve': 178754,\n 'viewed': 2799,\n 'slechte': 207690,\n 'meters.4': 198007,\n 'disproved': 43388,\n 'Nixon': 3262,\n 'Takata': 8358,\n '218,995': 130753,\n '“': 11,\n 'interchangeable': 30975,\n 'appelons': 179330,\n 'big': 388,\n 'antler': 113743,\n 'стрельб': 227927,\n 'honoringvets': 192094,\n 'MAL': 157642,\n 'able': 471,\n 'Stumbleupon': 22291,\n 'Korea': 942,\n 'Slager': 14086,\n 'atmosphere': 3515,\n 'is': 13,\n 'Talbert': 74999,\n 'blogger': 10420,\n 'Mounties': 85998,\n 'sunburned': 209006,\n 'inconceivable': 21705,\n '35': 2256,\n 'Iran': 612,\n 'меняться': 95915,\n 'frequent': 4382,\n 'autumn': 13476,\n 'troop': 15144,\n 'indo': 118032,\n 'комнатах': 221785,\n '7½': 80860,\n '$': 125,\n 'cleanup': 17212,\n 'международными': 95912,\n 'willing': 1466,\n '’s': 14,\n 'необходимости': 42062,\n 'deren': 60778,\n 'reversed': 6644,\n 'monthlong': 36679,\n 'address': 1079,\n 'pervades': 56454,\n 'borer': 181401,\n 'conventions': 9708,\n 'hadji': 191366,\n 'extracurricular': 38019,\n 'mentaly': 197924,\n 'macro': 30044,\n 'Gulied': 103800,\n 'Jentleson': 50623,\n 'declaration': 5553,\n 'Crosby': 27944,\n 'recientemente': 121006,\n 'MADURO': 59016,\n 'Lianicel': 156876,\n 'meditated': 61458,\n 'Буше': 216262,\n 'flashy': 25226,\n 'library': 6589,\n 'convening': 32772,\n 'banana': 9917,\n 'O.': 1853,\n 'members': 315,\n 'Strain': 25610,\n 'purposley': 204165,\n 'Moron': 59187,\n 'precincts': 13159,\n 'Aragonez': 63336,\n 'briefly': 4524,\n 'anger': 2414,\n 'пониже': 225019,\n 'heater': 45930,\n 'MATURÍN': 157699,\n 'breaking': 2247,\n 'sketchy': 24285,\n 'Tepco': 30685,\n 'China': 287,\n 'bloated': 17644,\n 'Mellott': 106886,\n 'обширный': 223513,\n 'FD&C': 102744,\n 'banning': 5992,\n 'Djokovic': 13913,\n 'обществом': 223525,\n 'acquaintance': 18572,\n 'hick': 117620,\n 'for': 15,\n 'crabs': 35070,\n 'Presstitutes': 31561,\n 'Bellis': 70933,\n 'Justo': 84873,\n 'investigator': 8154,\n 'shunned': 18966,\n 'communications': 2467,\n 'else': 766,\n 'recklessly': 18171,\n 'Hadrian': 72369,\n 'escucharlo': 188149,\n 'Crowley': 11108,\n 'dent': 20325,\n 'Plates': 65543,\n 'fractions': 39629,\n 'generalsekretær': 190352,\n 'Contributorship': 143088,\n 'terrifying': 8660,\n 'mixtures': 68161,\n 'Guímaro': 84122,\n 'некую': 95993,\n 'Kadyr': 154534,\n 'lange': 52210,\n 'Interpol': 21153,\n 'crewmen': 76316,\n 'usefulness': 25948,\n 'Bhatia': 70965,\n 'significance': 5819,\n 'toppling': 16492,\n 'Fra': 64298,\n 'stands': 2480,\n 'Minchala': 159650,\n '423': 53260,\n 'reservist': 38348,\n 'skeptically': 35444,\n 'photos': 2487,\n 'Scenarium': 168601,\n 'Bains': 138442,\n 'b*tch': 60442,\n 'referendum': 2681,\n 'Mr.': 36,\n 'Diff’rent': 83020,\n 'sets': 3922,\n 'whoop': 69363,\n 'Follow': 755,\n 'Abdoo': 98593,\n 'apigenin': 113769,\n 'Dalits': 82825,\n 'shield': 7564,\n 'malice': 20667,\n 'conservancy': 67127,\n 'B*TCH': 99425,\n 'Zootopia': 25639,\n 'Hamm': 33427,\n '32': 3755,\n 'character': 1827,\n 'urgent': 5575,\n 'futile': 14964,\n 'ii)WHAT': 193672,\n 'mayhem': 12607,\n 'Eligible': 64103,\n 'altında': 60375,\n 'used': 241,\n 'paciencia': 68337,\n 'Informational': 104740,\n 'routines': 19528,\n 'touchbacks': 94539,\n 'People\\x94': 163890,\n 'Westernists': 112830,\n 'Aga': 53353,\n 'Festivities': 83629,\n '8:7': 98017,\n 'guilt': 6212,\n 'Jason': 3062,\n 'gooding': 117286,\n 'Belt': 8385,\n 'Verena': 112401,\n 'basemen': 114121,\n 'chieftainship': 182665,\n '90,000': 40276,\n '@CecileRichards': 46856,\n '81,640': 97970,\n 'Downfall': 83121,\n 'onstant': 200398,\n 'musulmano': 198996,\n 'eight': 1120,\n 'Bashir': 22991,\n 'Mauritius': 73349,\n '19.3': 130203,\n 'élevé': 123949,\n 'Hatr': 151185,\n 'Wilton': 60235,\n 'ballast': 41216,\n 'dress': 3556,\n 'Dnepr': 102078,\n 'Голубым': 216473,\n 'Firma': 53962,\n 'files': 4679,\n 'Yurasumy': 177289,\n 'warming': 2891,\n 'Newgarden': 107697,\n 'органи': 223801,\n 'footsie': 61024,\n 'NoBanNoWall': 86238,\n 'Disclsoure': 145127,\n 'airport': 2676,\n 'League': 3215,\n 'desbloqueo': 115697,\n 'Banger': 138573,\n 'Lambeth': 105828,\n 'Provost': 51024,\n 'parameter': 25839,\n 'Sketchy': 170038,\n 'Omission': 108039,\n 'it': 22,\n 'Prev': 17833,\n 'on': 16,\n 'retakes': 121263,\n 'reducing': 4028,\n 'Helmut': 29596,\n 'DeAngelo': 144319,\n 'Tuesday': 465,\n 'philosophers': 25847,\n 'macho': 28390,\n 'étonnant': 215262,\n 'note': 1613,\n 'Abe': 5072,\n 'CDM': 140862,\n 'Compounds': 58060,\n 'metaphysical': 31003,\n 'Ahlburn': 136053,\n 'region': 964,\n 'ESF': 71803,\n 'Brinkmann': 100231,\n 'emphasized': 4247,\n 'bets': 11546,\n 'sont': 15451,\n '833': 63100,\n 'تنظيم': 96833,\n 'deserts': 24138,\n 'Gazdiev': 58476,\n '\\n': 17,\n 'нервозность': 223190,\n 'you': 46,\n 'PHRA': 163072,\n 'сотрудничеству': 49726,\n 'culprit': 13835,\n 'dumba$$': 186655,\n 'age': 949,\n 'Simmerson': 169898,\n 'transregional': 69169,\n 'hires': 14127,\n 'inventor': 25267,\n 'publicada': 68546,\n 'gotten': 2798,\n 'Write': 18074,\n 'Face': 7165,\n 'Former': 2825,\n '@woodywoods12345': 135119,\n 'venue': 7687,\n 'cunningly': 51795,\n 'messtime': 197982,\n 'Flirting': 103037,\n 'land': 852,\n 'progressive': 2460,\n 'денежные': 125158,\n 'significativa': 207424,\n 'Arfang': 137258,\n 'utilizado': 28568,\n 'semifinalists': 121665,\n '1875': 46801,\n 'Zoscak': 113312,\n 'winds': 7240,\n 'GRIFFIN': 103263,\n 'Bingo': 42262,\n 'baggie': 114064,\n 'enormously': 13383,\n 'наркоторговцев': 125848,\n 'understood': 2940,\n 'Nominee': 20853,\n 'разработку': 57266,\n 'Prof.': 18278,\n 'existing': 2889,\n 'early': 427,\n 'Freehof': 103156,\n 'Visit': 11121,\n 'Metal': 30551,\n 'emphysema': 90966,\n 'apparent': 2993,\n 'refleja': 121086,\n 'CONTEXT': 141096,\n 'extrapolated': 48668,\n 'masala': 118969,\n 'Rights\\x94': 166911,\n 'Tunisian': 12784,\n 'опровержений': 223777,\n 'noviembre': 31960,\n 'звено': 221064,\n 'Beast': 7410,\n 'Zelensky': 113248,\n 'выдавливаются': 219600,\n 'Internet': 2941,\n 'Deion': 101792,\n 'medical': 918,\n 'Pérez': 18808,\n 'gelegen': 190302,\n 'rentals': 21403,\n 'Xiusong': 176912,\n 'Acutely': 81210,\n 'Ruff': 42931,\n 'Leeway': 156669,\n 'lines': 1427,\n 'Trotskyites': 111893,\n 'Rodham': 11028,\n 'Moorish': 160141,\n 'varied': 11248,\n 'fatalism': 41443,\n 'Showing': 19384,\n 'Games': 2862,\n 'entrustment': 116374,\n 'beleaguered': 18098,\n 'Educator': 83288,\n 'specialises': 122051,\n 'said': 24,\n 'eagerness': 23635,\n 'Rodriguez': 7193,\n 'Tumi': 173838,\n 'red': 1460,\n 'Ankur': 99039,\n 'General[22': 149414,\n 'crude': 6582,\n 'столицы': 69919,\n 'Chippy': 142200,\n 'purification': 38309,\n 'touted': 12730,\n 'kickstarted': 118434,\n 'workingman': 213601,\n 'sued': 5018,\n 'Hosni': 23480,\n 'political': 172,\n ...}"
     },
     "execution_count": 115,
     "metadata": {},
     "output_type": "execute_result"
    }
   ],
   "source": [
    "vocabulary.get_stoi()"
   ],
   "metadata": {
    "collapsed": false,
    "pycharm": {
     "name": "#%%\n"
    }
   }
  },
  {
   "cell_type": "code",
   "execution_count": 116,
   "outputs": [
    {
     "data": {
      "text/plain": "231838"
     },
     "execution_count": 116,
     "metadata": {},
     "output_type": "execute_result"
    }
   ],
   "source": [
    "len(vocabulary)"
   ],
   "metadata": {
    "collapsed": false,
    "pycharm": {
     "name": "#%%\n"
    }
   }
  },
  {
   "cell_type": "code",
   "execution_count": 117,
   "outputs": [
    {
     "data": {
      "text/plain": "id\n0        House Dem Aide: We Didn’t Even See Comey’s Let...\n1        FLYNN: Hillary Clinton, Big Woman on Campus - ...\n2        Why the Truth Might Get You Fired  Why the Tru...\n3        15 Civilians Killed In Single US Airstrike Hav...\n4        Iranian woman jailed for fictional unpublished...\n                               ...                        \n20795    Rapper T.I.: Trump a ’Poster Child For White S...\n20796    N.F.L. Playoffs: Schedule, Matchups and Odds -...\n20797    Macy’s Is Said to Receive Takeover Approach by...\n20798    NATO, Russia To Hold Parallel Exercises In Bal...\n20799    What Keeps the F-35 Alive    David Swanson is ...\nLength: 20800, dtype: object"
     },
     "execution_count": 117,
     "metadata": {},
     "output_type": "execute_result"
    }
   ],
   "source": [
    "features"
   ],
   "metadata": {
    "collapsed": false,
    "pycharm": {
     "name": "#%%\n"
    }
   }
  },
  {
   "cell_type": "code",
   "execution_count": 118,
   "outputs": [
    {
     "data": {
      "text/plain": "id\n0        [180, 11839, 18734, 41, 100, 2160, 59, 636, 25...\n1        [50373, 41, 116, 72, 2, 1842, 5304, 16, 13328,...\n2        [759, 3, 4199, 12266, 2255, 181, 15490, 26, 75...\n3        [688, 12074, 8545, 70, 14206, 199, 33261, 2121...\n4        [2349, 496, 7865, 15, 10430, 27158, 426, 50, 4...\n                               ...                        \n20795    [17605, 111315, 41, 39, 8, 77, 45089, 5422, 22...\n20796    [28071, 65544, 41, 25600, 2, 106712, 7, 33570,...\n20797    [9755, 14, 535, 7547, 5, 20558, 21602, 23876, ...\n20798    [1014, 2, 169, 314, 11757, 50965, 21505, 70, 1...\n20799    [236, 26692, 3, 14067, 24378, 223, 707, 18062,...\nLength: 20800, dtype: object"
     },
     "execution_count": 118,
     "metadata": {},
     "output_type": "execute_result"
    }
   ],
   "source": [
    "features = features.apply(lambda x:vocabulary.lookup_indices(tokenizer(str(x))))\n",
    "features"
   ],
   "metadata": {
    "collapsed": false,
    "pycharm": {
     "name": "#%%\n"
    }
   }
  },
  {
   "cell_type": "code",
   "execution_count": 119,
   "outputs": [],
   "source": [
    "def padder(x,max_len=4000, pad_index=1):\n",
    "    if len(x)>=max_len:\n",
    "        return x[:max_len]\n",
    "    else:\n",
    "        return x  + [pad_index]*(max_len-len(x))"
   ],
   "metadata": {
    "collapsed": false,
    "pycharm": {
     "name": "#%%\n"
    }
   }
  },
  {
   "cell_type": "code",
   "execution_count": 120,
   "outputs": [],
   "source": [
    "features = features.apply(padder)"
   ],
   "metadata": {
    "collapsed": false,
    "pycharm": {
     "name": "#%%\n"
    }
   }
  },
  {
   "cell_type": "code",
   "execution_count": 121,
   "outputs": [
    {
     "data": {
      "text/plain": "(20800, 4000)"
     },
     "execution_count": 121,
     "metadata": {},
     "output_type": "execute_result"
    }
   ],
   "source": [
    "import numpy as np\n",
    "features_np = np.array([x for x in features.values])\n",
    "features_np.shape"
   ],
   "metadata": {
    "collapsed": false,
    "pycharm": {
     "name": "#%%\n"
    }
   }
  },
  {
   "cell_type": "code",
   "execution_count": 122,
   "outputs": [
    {
     "data": {
      "text/plain": "'House Dem Aide : We Did n’t Even See Comey ’s Letter Until Jason Chaffetz Tweeted It   House Dem Aide : We Did n’t Even See Comey ’s Letter Until Jason Chaffetz Tweeted It By Darrell Lucus on October 30 , 2016 Subscribe Jason Chaffetz on the stump in American Fork , Utah ( image courtesy Michael Jolley , available under a Creative Commons - BY license ) \\n With apologies to Keith Olbermann , there is no doubt who the Worst Person in The World is this week – FBI Director James Comey . But according to a House Democratic aide , it looks like we also know who the second - worst person is as well . It turns out that when Comey sent his now - infamous letter announcing that the FBI was looking into emails that may be related to Hillary Clinton ’s email server , the ranking Democrats on the relevant committees did n’t hear about it from Comey . They found out via a tweet from one of the Republican committee chairmen . \\n As we now know , Comey notified the Republican chairmen and Democratic ranking members of the House Intelligence , Judiciary , and Oversight committees that his agency was reviewing emails it had recently discovered in order to see if they contained classified information . Not long after this letter went out , Oversight Committee Chairman Jason Chaffetz set the political world ablaze with this tweet . FBI Dir just informed me , \" The FBI has learned of the existence of emails that appear to be pertinent to the investigation . \" Case reopened \\n — Jason Chaffetz ( @jasoninthehouse ) October 28 , 2016 \\n Of course , we now know that this was not the case . Comey was actually saying that it was reviewing the emails in light of “ an unrelated case”–which we now know to be Anthony Weiner ’s sexting with a teenager . But apparently such little things as facts did n’t matter to Chaffetz . The Utah Republican had already vowed to initiate a raft of investigations if Hillary wins – at least two years ’ worth , and possibly an entire term ’s worth of them . Apparently Chaffetz thought the FBI was already doing his work for him – resulting in a tweet that briefly roiled the nation before cooler heads realized it was a dud . \\n But according to a senior House Democratic aide , misreading that letter may have been the least of Chaffetz ’ sins . That aide told Shareblue that his boss and other Democrats did n’t even know about Comey ’s letter at the time – and only found out when they checked Twitter . “ Democratic Ranking Members on the relevant committees did n’t receive Comey ’s letter until after the Republican Chairmen . In fact , the Democratic Ranking Members didn ’ receive it until after the Chairman of the Oversight and Government Reform Committee , Jason Chaffetz , tweeted it out and made it public . ” \\n So let ’s see if we ’ve got this right . The FBI director tells Chaffetz and other GOP committee chairmen about a major development in a potentially politically explosive investigation , and neither Chaffetz nor his other colleagues had the courtesy to let their Democratic counterparts know about it . Instead , according to this aide , he made them find out about it on Twitter . \\n There has already been talk on Daily Kos that Comey himself provided advance notice of this letter to Chaffetz and other Republicans , giving them time to turn on the spin machine . That may make for good theater , but there is nothing so far that even suggests this is the case . After all , there is nothing so far that suggests that Comey was anything other than grossly incompetent and tone - deaf . \\n What it does suggest , however , is that Chaffetz is acting in a way that makes Dan Burton and Darrell Issa look like models of responsibility and bipartisanship . He did n’t even have the decency to notify ranking member Elijah Cummings about something this explosive . If that does n’t trample on basic standards of fairness , I do n’t know what does . \\n Granted , it ’s not likely that Chaffetz will have to answer for this . He sits in a ridiculously Republican district anchored in Provo and Orem ; it has a Cook Partisan Voting Index of R+25 , and gave Mitt Romney a punishing 78 percent of the vote in 2012 . Moreover , the Republican House leadership has given its full support to Chaffetz ’ planned fishing expedition . But that does n’t mean we ca n’t turn the hot lights on him . After all , he is a textbook example of what the House has become under Republican control . And he is also the Second Worst Person in the World . About Darrell Lucus \\n Darrell is a 30 - something graduate of the University of North Carolina who considers himself a journalist of the old school . An attempt to turn him into a member of the religious right in college only succeeded in turning him into the religious right \\'s worst nightmare -- a charismatic Christian who is an unapologetic liberal . His desire to stand up for those who have been scared into silence only increased when he survived an abusive three - year marriage . You may know him on Daily Kos as Christian Dem in NC . Follow him on Twitter @DarrellLucus or connect with him on Facebook . Click here to buy Darrell a Mello Yello . Connect <pad> <pad> <pad> <pad> <pad> <pad> <pad> <pad> <pad> <pad> <pad> <pad> <pad> <pad> <pad> <pad> <pad> <pad> <pad> <pad> <pad> <pad> <pad> <pad> <pad> <pad> <pad> <pad> <pad> <pad> <pad> <pad> <pad> <pad> <pad> <pad> <pad> <pad> <pad> <pad> <pad> <pad> <pad> <pad> <pad> <pad> <pad> <pad> <pad> <pad> <pad> <pad> <pad> <pad> <pad> <pad> <pad> <pad> <pad> <pad> <pad> <pad> <pad> <pad> <pad> <pad> <pad> <pad> <pad> <pad> <pad> <pad> <pad> <pad> <pad> <pad> <pad> <pad> <pad> <pad> <pad> <pad> <pad> <pad> <pad> <pad> <pad> <pad> <pad> <pad> <pad> <pad> <pad> <pad> <pad> <pad> <pad> <pad> <pad> <pad> <pad> <pad> <pad> <pad> <pad> <pad> <pad> <pad> <pad> <pad> <pad> <pad> <pad> <pad> <pad> <pad> <pad> <pad> <pad> <pad> <pad> <pad> <pad> <pad> <pad> <pad> <pad> <pad> <pad> <pad> <pad> <pad> <pad> <pad> <pad> <pad> <pad> <pad> <pad> <pad> <pad> <pad> <pad> <pad> <pad> <pad> <pad> <pad> <pad> <pad> <pad> <pad> <pad> <pad> <pad> <pad> <pad> <pad> <pad> <pad> <pad> <pad> <pad> <pad> <pad> <pad> <pad> <pad> <pad> <pad> <pad> <pad> <pad> <pad> <pad> <pad> <pad> <pad> <pad> <pad> <pad> <pad> <pad> <pad> <pad> <pad> <pad> <pad> <pad> <pad> <pad> <pad> <pad> <pad> <pad> <pad> <pad> <pad> <pad> <pad> <pad> <pad> <pad> <pad> <pad> <pad> <pad> <pad> <pad> <pad> <pad> <pad> <pad> <pad> <pad> <pad> <pad> <pad> <pad> <pad> <pad> <pad> <pad> <pad> <pad> <pad> <pad> <pad> <pad> <pad> <pad> <pad> <pad> <pad> <pad> <pad> <pad> <pad> <pad> <pad> <pad> <pad> <pad> <pad> <pad> <pad> <pad> <pad> <pad> <pad> <pad> <pad> <pad> <pad> <pad> <pad> <pad> <pad> <pad> <pad> <pad> <pad> <pad> <pad> <pad> <pad> <pad> <pad> <pad> <pad> <pad> <pad> <pad> <pad> <pad> <pad> <pad> <pad> <pad> <pad> <pad> <pad> <pad> <pad> <pad> <pad> <pad> <pad> <pad> <pad> <pad> <pad> <pad> <pad> <pad> <pad> <pad> <pad> <pad> <pad> <pad> <pad> <pad> <pad> <pad> <pad> <pad> <pad> <pad> <pad> <pad> <pad> <pad> <pad> <pad> <pad> <pad> <pad> <pad> <pad> <pad> <pad> <pad> <pad> <pad> <pad> <pad> <pad> <pad> <pad> <pad> <pad> <pad> <pad> <pad> <pad> <pad> <pad> <pad> <pad> <pad> <pad> <pad> <pad> <pad> <pad> <pad> <pad> <pad> <pad> <pad> <pad> <pad> <pad> <pad> <pad> <pad> <pad> <pad> <pad> <pad> <pad> <pad> <pad> <pad> <pad> <pad> <pad> <pad> <pad> <pad> <pad> <pad> <pad> <pad> <pad> <pad> <pad> <pad> <pad> <pad> <pad> <pad> <pad> <pad> <pad> <pad> <pad> <pad> <pad> <pad> <pad> <pad> <pad> <pad> <pad> <pad> <pad> <pad> <pad> <pad> <pad> <pad> <pad> <pad> <pad> <pad> <pad> <pad> <pad> <pad> <pad> <pad> <pad> <pad> <pad> <pad> <pad> <pad> <pad> <pad> <pad> <pad> <pad> <pad> <pad> <pad> <pad> <pad> <pad> <pad> <pad> <pad> <pad> <pad> <pad> <pad> <pad> <pad> <pad> <pad> <pad> <pad> <pad> <pad> <pad> <pad> <pad> <pad> <pad> <pad> <pad> <pad> <pad> <pad> <pad> <pad> <pad> <pad> <pad> <pad> <pad> <pad> <pad> <pad> <pad> <pad> <pad> <pad> <pad> <pad> <pad> <pad> <pad> <pad> <pad> <pad> <pad> <pad> <pad> <pad> <pad> <pad> <pad> <pad> <pad> <pad> <pad> <pad> <pad> <pad> <pad> <pad> <pad> <pad> <pad> <pad> <pad> <pad> <pad> <pad> <pad> <pad> <pad> <pad> <pad> <pad> <pad> <pad> <pad> <pad> <pad> <pad> <pad> <pad> <pad> <pad> <pad> <pad> <pad> <pad> <pad> <pad> <pad> <pad> <pad> <pad> <pad> <pad> <pad> <pad> <pad> <pad> <pad> <pad> <pad> <pad> <pad> <pad> <pad> <pad> <pad> <pad> <pad> <pad> <pad> <pad> <pad> <pad> <pad> <pad> <pad> <pad> <pad> <pad> <pad> <pad> <pad> <pad> <pad> <pad> <pad> <pad> <pad> <pad> <pad> <pad> <pad> <pad> <pad> <pad> <pad> <pad> <pad> <pad> <pad> <pad> <pad> <pad> <pad> <pad> <pad> <pad> <pad> <pad> <pad> <pad> <pad> <pad> <pad> <pad> <pad> <pad> <pad> <pad> <pad> <pad> <pad> <pad> <pad> <pad> <pad> <pad> <pad> <pad> <pad> <pad> <pad> <pad> <pad> <pad> <pad> <pad> <pad> <pad> <pad> <pad> <pad> <pad> <pad> <pad> <pad> <pad> <pad> <pad> <pad> <pad> <pad> <pad> <pad> <pad> <pad> <pad> <pad> <pad> <pad> <pad> <pad> <pad> <pad> <pad> <pad> <pad> <pad> <pad> <pad> <pad> <pad> <pad> <pad> <pad> <pad> <pad> <pad> <pad> <pad> <pad> <pad> <pad> <pad> <pad> <pad> <pad> <pad> <pad> <pad> <pad> <pad> <pad> <pad> <pad> <pad> <pad> <pad> <pad> <pad> <pad> <pad> <pad> <pad> <pad> <pad> <pad> <pad> <pad> <pad> <pad> <pad> <pad> <pad> <pad> <pad> <pad> <pad> <pad> <pad> <pad> <pad> <pad> <pad> <pad> <pad> <pad> <pad> <pad> <pad> <pad> <pad> <pad> <pad> <pad> <pad> <pad> <pad> <pad> <pad> <pad> <pad> <pad> <pad> <pad> <pad> <pad> <pad> <pad> <pad> <pad> <pad> <pad> <pad> <pad> <pad> <pad> <pad> <pad> <pad> <pad> <pad> <pad> <pad> <pad> <pad> <pad> <pad> <pad> <pad> <pad> <pad> <pad> <pad> <pad> <pad> <pad> <pad> <pad> <pad> <pad> <pad> <pad> <pad> <pad> <pad> <pad> <pad> <pad> <pad> <pad> <pad> <pad> <pad> <pad> <pad> <pad> <pad> <pad> <pad> <pad> <pad> <pad> <pad> <pad> <pad> <pad> <pad> <pad> <pad> <pad> <pad> <pad> <pad> <pad> <pad> <pad> <pad> <pad> <pad> <pad> <pad> <pad> <pad> <pad> <pad> <pad> <pad> <pad> <pad> <pad> <pad> <pad> <pad> <pad> <pad> <pad> <pad> <pad> <pad> <pad> <pad> <pad> <pad> <pad> <pad> <pad> <pad> <pad> <pad> <pad> <pad> <pad> <pad> <pad> <pad> <pad> <pad> <pad> <pad> <pad> <pad> <pad> <pad> <pad> <pad> <pad> <pad> <pad> <pad> <pad> <pad> <pad> <pad> <pad> <pad> <pad> <pad> <pad> <pad> <pad> <pad> <pad> <pad> <pad> <pad> <pad> <pad> <pad> <pad> <pad> <pad> <pad> <pad> <pad> <pad> <pad> <pad> <pad> <pad> <pad> <pad> <pad> <pad> <pad> <pad> <pad> <pad> <pad> <pad> <pad> <pad> <pad> <pad> <pad> <pad> <pad> <pad> <pad> <pad> <pad> <pad> <pad> <pad> <pad> <pad> <pad> <pad> <pad> <pad> <pad> <pad> <pad> <pad> <pad> <pad> <pad> <pad> <pad> <pad> <pad> <pad> <pad> <pad> <pad> <pad> <pad> <pad> <pad> <pad> <pad> <pad> <pad> <pad> <pad> <pad> <pad> <pad> <pad> <pad> <pad> <pad> <pad> <pad> <pad> <pad> <pad> <pad> <pad> <pad> <pad> <pad> <pad> <pad> <pad> <pad> <pad> <pad> <pad> <pad> <pad> <pad> <pad> <pad> <pad> <pad> <pad> <pad> <pad> <pad> <pad> <pad> <pad> <pad> <pad> <pad> <pad> <pad> <pad> <pad> <pad> <pad> <pad> <pad> <pad> <pad> <pad> <pad> <pad> <pad> <pad> <pad> <pad> <pad> <pad> <pad> <pad> <pad> <pad> <pad> <pad> <pad> <pad> <pad> <pad> <pad> <pad> <pad> <pad> <pad> <pad> <pad> <pad> <pad> <pad> <pad> <pad> <pad> <pad> <pad> <pad> <pad> <pad> <pad> <pad> <pad> <pad> <pad> <pad> <pad> <pad> <pad> <pad> <pad> <pad> <pad> <pad> <pad> <pad> <pad> <pad> <pad> <pad> <pad> <pad> <pad> <pad> <pad> <pad> <pad> <pad> <pad> <pad> <pad> <pad> <pad> <pad> <pad> <pad> <pad> <pad> <pad> <pad> <pad> <pad> <pad> <pad> <pad> <pad> <pad> <pad> <pad> <pad> <pad> <pad> <pad> <pad> <pad> <pad> <pad> <pad> <pad> <pad> <pad> <pad> <pad> <pad> <pad> <pad> <pad> <pad> <pad> <pad> <pad> <pad> <pad> <pad> <pad> <pad> <pad> <pad> <pad> <pad> <pad> <pad> <pad> <pad> <pad> <pad> <pad> <pad> <pad> <pad> <pad> <pad> <pad> <pad> <pad> <pad> <pad> <pad> <pad> <pad> <pad> <pad> <pad> <pad> <pad> <pad> <pad> <pad> <pad> <pad> <pad> <pad> <pad> <pad> <pad> <pad> <pad> <pad> <pad> <pad> <pad> <pad> <pad> <pad> <pad> <pad> <pad> <pad> <pad> <pad> <pad> <pad> <pad> <pad> <pad> <pad> <pad> <pad> <pad> <pad> <pad> <pad> <pad> <pad> <pad> <pad> <pad> <pad> <pad> <pad> <pad> <pad> <pad> <pad> <pad> <pad> <pad> <pad> <pad> <pad> <pad> <pad> <pad> <pad> <pad> <pad> <pad> <pad> <pad> <pad> <pad> <pad> <pad> <pad> <pad> <pad> <pad> <pad> <pad> <pad> <pad> <pad> <pad> <pad> <pad> <pad> <pad> <pad> <pad> <pad> <pad> <pad> <pad> <pad> <pad> <pad> <pad> <pad> <pad> <pad> <pad> <pad> <pad> <pad> <pad> <pad> <pad> <pad> <pad> <pad> <pad> <pad> <pad> <pad> <pad> <pad> <pad> <pad> <pad> <pad> <pad> <pad> <pad> <pad> <pad> <pad> <pad> <pad> <pad> <pad> <pad> <pad> <pad> <pad> <pad> <pad> <pad> <pad> <pad> <pad> <pad> <pad> <pad> <pad> <pad> <pad> <pad> <pad> <pad> <pad> <pad> <pad> <pad> <pad> <pad> <pad> <pad> <pad> <pad> <pad> <pad> <pad> <pad> <pad> <pad> <pad> <pad> <pad> <pad> <pad> <pad> <pad> <pad> <pad> <pad> <pad> <pad> <pad> <pad> <pad> <pad> <pad> <pad> <pad> <pad> <pad> <pad> <pad> <pad> <pad> <pad> <pad> <pad> <pad> <pad> <pad> <pad> <pad> <pad> <pad> <pad> <pad> <pad> <pad> <pad> <pad> <pad> <pad> <pad> <pad> <pad> <pad> <pad> <pad> <pad> <pad> <pad> <pad> <pad> <pad> <pad> <pad> <pad> <pad> <pad> <pad> <pad> <pad> <pad> <pad> <pad> <pad> <pad> <pad> <pad> <pad> <pad> <pad> <pad> <pad> <pad> <pad> <pad> <pad> <pad> <pad> <pad> <pad> <pad> <pad> <pad> <pad> <pad> <pad> <pad> <pad> <pad> <pad> <pad> <pad> <pad> <pad> <pad> <pad> <pad> <pad> <pad> <pad> <pad> <pad> <pad> <pad> <pad> <pad> <pad> <pad> <pad> <pad> <pad> <pad> <pad> <pad> <pad> <pad> <pad> <pad> <pad> <pad> <pad> <pad> <pad> <pad> <pad> <pad> <pad> <pad> <pad> <pad> <pad> <pad> <pad> <pad> <pad> <pad> <pad> <pad> <pad> <pad> <pad> <pad> <pad> <pad> <pad> <pad> <pad> <pad> <pad> <pad> <pad> <pad> <pad> <pad> <pad> <pad> <pad> <pad> <pad> <pad> <pad> <pad> <pad> <pad> <pad> <pad> <pad> <pad> <pad> <pad> <pad> <pad> <pad> <pad> <pad> <pad> <pad> <pad> <pad> <pad> <pad> <pad> <pad> <pad> <pad> <pad> <pad> <pad> <pad> <pad> <pad> <pad> <pad> <pad> <pad> <pad> <pad> <pad> <pad> <pad> <pad> <pad> <pad> <pad> <pad> <pad> <pad> <pad> <pad> <pad> <pad> <pad> <pad> <pad> <pad> <pad> <pad> <pad> <pad> <pad> <pad> <pad> <pad> <pad> <pad> <pad> <pad> <pad> <pad> <pad> <pad> <pad> <pad> <pad> <pad> <pad> <pad> <pad> <pad> <pad> <pad> <pad> <pad> <pad> <pad> <pad> <pad> <pad> <pad> <pad> <pad> <pad> <pad> <pad> <pad> <pad> <pad> <pad> <pad> <pad> <pad> <pad> <pad> <pad> <pad> <pad> <pad> <pad> <pad> <pad> <pad> <pad> <pad> <pad> <pad> <pad> <pad> <pad> <pad> <pad> <pad> <pad> <pad> <pad> <pad> <pad> <pad> <pad> <pad> <pad> <pad> <pad> <pad> <pad> <pad> <pad> <pad> <pad> <pad> <pad> <pad> <pad> <pad> <pad> <pad> <pad> <pad> <pad> <pad> <pad> <pad> <pad> <pad> <pad> <pad> <pad> <pad> <pad> <pad> <pad> <pad> <pad> <pad> <pad> <pad> <pad> <pad> <pad> <pad> <pad> <pad> <pad> <pad> <pad> <pad> <pad> <pad> <pad> <pad> <pad> <pad> <pad> <pad> <pad> <pad> <pad> <pad> <pad> <pad> <pad> <pad> <pad> <pad> <pad> <pad> <pad> <pad> <pad> <pad> <pad> <pad> <pad> <pad> <pad> <pad> <pad> <pad> <pad> <pad> <pad> <pad> <pad> <pad> <pad> <pad> <pad> <pad> <pad> <pad> <pad> <pad> <pad> <pad> <pad> <pad> <pad> <pad> <pad> <pad> <pad> <pad> <pad> <pad> <pad> <pad> <pad> <pad> <pad> <pad> <pad> <pad> <pad> <pad> <pad> <pad> <pad> <pad> <pad> <pad> <pad> <pad> <pad> <pad> <pad> <pad> <pad> <pad> <pad> <pad> <pad> <pad> <pad> <pad> <pad> <pad> <pad> <pad> <pad> <pad> <pad> <pad> <pad> <pad> <pad> <pad> <pad> <pad> <pad> <pad> <pad> <pad> <pad> <pad> <pad> <pad> <pad> <pad> <pad> <pad> <pad> <pad> <pad> <pad> <pad> <pad> <pad> <pad> <pad> <pad> <pad> <pad> <pad> <pad> <pad> <pad> <pad> <pad> <pad> <pad> <pad> <pad> <pad> <pad> <pad> <pad> <pad> <pad> <pad> <pad> <pad> <pad> <pad> <pad> <pad> <pad> <pad> <pad> <pad> <pad> <pad> <pad> <pad> <pad> <pad> <pad> <pad> <pad> <pad> <pad> <pad> <pad> <pad> <pad> <pad> <pad> <pad> <pad> <pad> <pad> <pad> <pad> <pad> <pad> <pad> <pad> <pad> <pad> <pad> <pad> <pad> <pad> <pad> <pad> <pad> <pad> <pad> <pad> <pad> <pad> <pad> <pad> <pad> <pad> <pad> <pad> <pad> <pad> <pad> <pad> <pad> <pad> <pad> <pad> <pad> <pad> <pad> <pad> <pad> <pad> <pad> <pad> <pad> <pad> <pad> <pad> <pad> <pad> <pad> <pad> <pad> <pad> <pad> <pad> <pad> <pad> <pad> <pad> <pad> <pad> <pad> <pad> <pad> <pad> <pad> <pad> <pad> <pad> <pad> <pad> <pad> <pad> <pad> <pad> <pad> <pad> <pad> <pad> <pad> <pad> <pad> <pad> <pad> <pad> <pad> <pad> <pad> <pad> <pad> <pad> <pad> <pad> <pad> <pad> <pad> <pad> <pad> <pad> <pad> <pad> <pad> <pad> <pad> <pad> <pad> <pad> <pad> <pad> <pad> <pad> <pad> <pad> <pad> <pad> <pad> <pad> <pad> <pad> <pad> <pad> <pad> <pad> <pad> <pad> <pad> <pad> <pad> <pad> <pad> <pad> <pad> <pad> <pad> <pad> <pad> <pad> <pad> <pad> <pad> <pad> <pad> <pad> <pad> <pad> <pad> <pad> <pad> <pad> <pad> <pad> <pad> <pad> <pad> <pad> <pad> <pad> <pad> <pad> <pad> <pad> <pad> <pad> <pad> <pad> <pad> <pad> <pad> <pad> <pad> <pad> <pad> <pad> <pad> <pad> <pad> <pad> <pad> <pad> <pad> <pad> <pad> <pad> <pad> <pad> <pad> <pad> <pad> <pad> <pad> <pad> <pad> <pad> <pad> <pad> <pad> <pad> <pad> <pad> <pad> <pad> <pad> <pad> <pad> <pad> <pad> <pad> <pad> <pad> <pad> <pad> <pad> <pad> <pad> <pad> <pad> <pad> <pad> <pad> <pad> <pad> <pad> <pad> <pad> <pad> <pad> <pad> <pad> <pad> <pad> <pad> <pad> <pad> <pad> <pad> <pad> <pad> <pad> <pad> <pad> <pad> <pad> <pad> <pad> <pad> <pad> <pad> <pad> <pad> <pad> <pad> <pad> <pad> <pad> <pad> <pad> <pad> <pad> <pad> <pad> <pad> <pad> <pad> <pad> <pad> <pad> <pad> <pad> <pad> <pad> <pad> <pad> <pad> <pad> <pad> <pad> <pad> <pad> <pad> <pad> <pad> <pad> <pad> <pad> <pad> <pad> <pad> <pad> <pad> <pad> <pad> <pad> <pad> <pad> <pad> <pad> <pad> <pad> <pad> <pad> <pad> <pad> <pad> <pad> <pad> <pad> <pad> <pad> <pad> <pad> <pad> <pad> <pad> <pad> <pad> <pad> <pad> <pad> <pad> <pad> <pad> <pad> <pad> <pad> <pad> <pad> <pad> <pad> <pad> <pad> <pad> <pad> <pad> <pad> <pad> <pad> <pad> <pad> <pad> <pad> <pad> <pad> <pad> <pad> <pad> <pad> <pad> <pad> <pad> <pad> <pad> <pad> <pad> <pad> <pad> <pad> <pad> <pad> <pad> <pad> <pad> <pad> <pad> <pad> <pad> <pad> <pad> <pad> <pad> <pad> <pad> <pad> <pad> <pad> <pad> <pad> <pad> <pad> <pad> <pad> <pad> <pad> <pad> <pad> <pad> <pad> <pad> <pad> <pad> <pad> <pad> <pad> <pad> <pad> <pad> <pad> <pad> <pad> <pad> <pad> <pad> <pad> <pad> <pad> <pad> <pad> <pad> <pad> <pad> <pad> <pad> <pad> <pad> <pad> <pad> <pad> <pad> <pad> <pad> <pad> <pad> <pad> <pad> <pad> <pad> <pad> <pad> <pad> <pad> <pad> <pad> <pad> <pad> <pad> <pad> <pad> <pad> <pad> <pad> <pad> <pad> <pad> <pad> <pad> <pad> <pad> <pad> <pad> <pad> <pad> <pad> <pad> <pad> <pad> <pad> <pad> <pad> <pad> <pad> <pad> <pad> <pad> <pad> <pad> <pad> <pad> <pad> <pad> <pad> <pad> <pad> <pad> <pad> <pad> <pad> <pad> <pad> <pad> <pad> <pad> <pad> <pad> <pad> <pad> <pad> <pad> <pad> <pad> <pad> <pad> <pad> <pad> <pad> <pad> <pad> <pad> <pad> <pad> <pad> <pad> <pad> <pad> <pad> <pad> <pad> <pad> <pad> <pad> <pad> <pad> <pad> <pad> <pad> <pad> <pad> <pad> <pad> <pad> <pad> <pad> <pad> <pad> <pad> <pad> <pad> <pad> <pad> <pad> <pad> <pad> <pad> <pad> <pad> <pad> <pad> <pad> <pad> <pad> <pad> <pad> <pad> <pad> <pad> <pad> <pad> <pad> <pad> <pad> <pad> <pad> <pad> <pad> <pad> <pad> <pad> <pad> <pad> <pad> <pad> <pad> <pad> <pad> <pad> <pad> <pad> <pad> <pad> <pad> <pad> <pad> <pad> <pad> <pad> <pad> <pad> <pad> <pad> <pad> <pad> <pad> <pad> <pad> <pad> <pad> <pad> <pad> <pad> <pad> <pad> <pad> <pad> <pad> <pad> <pad> <pad> <pad> <pad> <pad> <pad> <pad> <pad> <pad> <pad> <pad> <pad> <pad> <pad> <pad> <pad> <pad> <pad> <pad> <pad> <pad> <pad> <pad> <pad> <pad> <pad> <pad> <pad> <pad> <pad> <pad> <pad> <pad> <pad> <pad> <pad> <pad> <pad> <pad> <pad> <pad> <pad> <pad> <pad> <pad> <pad> <pad> <pad> <pad> <pad> <pad> <pad> <pad> <pad> <pad> <pad> <pad> <pad> <pad> <pad> <pad> <pad> <pad> <pad> <pad> <pad> <pad> <pad> <pad> <pad> <pad> <pad> <pad> <pad> <pad> <pad> <pad> <pad> <pad> <pad> <pad> <pad> <pad> <pad> <pad> <pad> <pad> <pad> <pad> <pad> <pad> <pad> <pad> <pad> <pad> <pad> <pad> <pad> <pad> <pad> <pad> <pad> <pad> <pad> <pad> <pad> <pad> <pad> <pad> <pad> <pad> <pad> <pad> <pad> <pad> <pad> <pad> <pad> <pad> <pad> <pad> <pad> <pad> <pad> <pad> <pad> <pad> <pad> <pad> <pad> <pad> <pad> <pad> <pad> <pad> <pad> <pad> <pad> <pad> <pad> <pad> <pad> <pad> <pad> <pad> <pad> <pad> <pad> <pad> <pad> <pad> <pad> <pad> <pad> <pad> <pad> <pad> <pad> <pad> <pad> <pad> <pad> <pad> <pad> <pad> <pad> <pad> <pad> <pad> <pad> <pad> <pad> <pad> <pad> <pad> <pad> <pad> <pad> <pad> <pad> <pad> <pad> <pad> <pad> <pad> <pad> <pad> <pad> <pad> <pad> <pad> <pad> <pad> <pad> <pad> <pad> <pad> <pad> <pad> <pad> <pad> <pad> <pad> <pad> <pad> <pad> <pad> <pad> <pad> <pad> <pad> <pad> <pad> <pad> <pad> <pad> <pad> <pad> <pad> <pad> <pad> <pad> <pad> <pad> <pad> <pad> <pad> <pad> <pad> <pad> <pad> <pad> <pad> <pad> <pad> <pad> <pad> <pad> <pad> <pad> <pad> <pad> <pad> <pad> <pad> <pad> <pad> <pad> <pad> <pad> <pad> <pad> <pad> <pad> <pad> <pad> <pad> <pad> <pad> <pad> <pad> <pad> <pad> <pad> <pad> <pad> <pad> <pad> <pad> <pad> <pad> <pad> <pad> <pad> <pad> <pad> <pad> <pad> <pad> <pad> <pad> <pad> <pad> <pad> <pad> <pad> <pad> <pad> <pad> <pad> <pad> <pad> <pad> <pad> <pad> <pad> <pad> <pad> <pad> <pad> <pad> <pad> <pad> <pad> <pad> <pad> <pad> <pad> <pad> <pad> <pad> <pad> <pad> <pad> <pad> <pad> <pad> <pad> <pad> <pad> <pad> <pad> <pad> <pad> <pad> <pad> <pad> <pad> <pad> <pad> <pad> <pad> <pad> <pad> <pad> <pad> <pad> <pad> <pad> <pad> <pad> <pad> <pad> <pad> <pad> <pad> <pad> <pad> <pad> <pad> <pad> <pad> <pad> <pad> <pad> <pad> <pad> <pad> <pad> <pad> <pad> <pad> <pad> <pad> <pad> <pad> <pad> <pad> <pad> <pad> <pad> <pad> <pad> <pad> <pad> <pad> <pad> <pad> <pad> <pad> <pad> <pad> <pad> <pad> <pad> <pad> <pad> <pad> <pad> <pad> <pad> <pad> <pad> <pad> <pad> <pad> <pad> <pad> <pad> <pad> <pad> <pad> <pad> <pad> <pad> <pad> <pad> <pad> <pad> <pad> <pad> <pad> <pad> <pad> <pad> <pad> <pad> <pad> <pad> <pad> <pad> <pad> <pad> <pad> <pad> <pad> <pad> <pad> <pad> <pad> <pad> <pad> <pad> <pad> <pad> <pad> <pad> <pad> <pad> <pad> <pad> <pad> <pad> <pad> <pad> <pad> <pad> <pad> <pad> <pad> <pad> <pad> <pad> <pad> <pad> <pad> <pad> <pad> <pad> <pad> <pad> <pad> <pad> <pad> <pad> <pad> <pad> <pad> <pad> <pad> <pad> <pad> <pad> <pad> <pad> <pad> <pad> <pad> <pad> <pad> <pad> <pad> <pad> <pad> <pad> <pad> <pad> <pad> <pad> <pad> <pad> <pad> <pad> <pad> <pad> <pad> <pad> <pad> <pad> <pad> <pad> <pad> <pad> <pad> <pad> <pad> <pad> <pad> <pad> <pad> <pad> <pad> <pad> <pad> <pad> <pad> <pad> <pad> <pad> <pad> <pad> <pad> <pad> <pad> <pad> <pad> <pad> <pad> <pad> <pad> <pad> <pad> <pad> <pad> <pad> <pad> <pad> <pad> <pad> <pad> <pad> <pad> <pad> <pad> <pad> <pad> <pad> <pad> <pad> <pad> <pad> <pad> <pad> <pad> <pad> <pad> <pad> <pad> <pad> <pad> <pad> <pad> <pad> <pad> <pad> <pad> <pad> <pad> <pad> <pad> <pad> <pad> <pad> <pad> <pad> <pad> <pad> <pad> <pad> <pad> <pad> <pad> <pad> <pad> <pad> <pad> <pad> <pad> <pad> <pad> <pad> <pad> <pad> <pad> <pad> <pad> <pad> <pad> <pad> <pad> <pad> <pad> <pad> <pad> <pad> <pad> <pad> <pad> <pad> <pad> <pad> <pad> <pad> <pad> <pad> <pad> <pad> <pad> <pad> <pad> <pad> <pad> <pad> <pad> <pad> <pad> <pad> <pad> <pad> <pad> <pad> <pad> <pad> <pad> <pad> <pad> <pad> <pad> <pad> <pad> <pad> <pad> <pad>'"
     },
     "execution_count": 122,
     "metadata": {},
     "output_type": "execute_result"
    }
   ],
   "source": [
    "' '.join(vocabulary.lookup_tokens(features_np[0].tolist()))"
   ],
   "metadata": {
    "collapsed": false,
    "pycharm": {
     "name": "#%%\n"
    }
   }
  },
  {
   "cell_type": "code",
   "execution_count": 131,
   "outputs": [],
   "source": [
    "class NewsDetector(nn.Module):\n",
    "    def __init__(self, vocab_len, len_doc):\n",
    "        super(NewsDetector, self).__init__()\n",
    "        self.embedding = nn.Embedding(vocab_len,64,padding_idx=vocabulary.get_stoi()['<pad>'])\n",
    "        self.lstm = nn.LSTM(64, 32)\n",
    "        self.fc1 = nn.Linear(32,16)\n",
    "        self.fc2 = nn.Linear(16*len_doc, 1)\n",
    "    def forward(self, x):\n",
    "        x = self.embedding(x)\n",
    "        x, _ = self.lstm(x)\n",
    "        x = nn.functional.leaky_relu(self.fc1(x))\n",
    "        x = nn.Flatten()(x)\n",
    "        x = nn.functional.dropout(x,0.3)\n",
    "        x = nn.functional.leaky_relu(self.fc2(x))\n",
    "\n",
    "        return nn.functional.sigmoid(x)\n",
    "\n",
    "model = NewsDetector(len(vocabulary),4000)\n",
    "optimizer = torch.optim.Adam(model.parameters(),lr=0.001, weight_decay=0.0001)\n",
    "criterion = nn.BCELoss()"
   ],
   "metadata": {
    "collapsed": false,
    "pycharm": {
     "name": "#%%\n"
    }
   }
  },
  {
   "cell_type": "code",
   "execution_count": 132,
   "outputs": [],
   "source": [
    "from sklearn.model_selection import train_test_split\n",
    "x_train, x_test, y_train ,y_test = train_test_split(features_np, target.values,test_size=0.2)"
   ],
   "metadata": {
    "collapsed": false,
    "pycharm": {
     "name": "#%%\n"
    }
   }
  },
  {
   "cell_type": "code",
   "execution_count": 133,
   "outputs": [],
   "source": [
    "xtrain = torch.tensor(x_train,dtype=torch.long)\n",
    "xtest  = torch.tensor(x_test,dtype=torch.long)\n",
    "ytrain = torch.tensor(y_train,dtype=torch.float)\n",
    "ytest  = torch.tensor(y_test,dtype=torch.float)"
   ],
   "metadata": {
    "collapsed": false,
    "pycharm": {
     "name": "#%%\n"
    }
   }
  },
  {
   "cell_type": "code",
   "execution_count": 134,
   "outputs": [
    {
     "data": {
      "text/plain": "130"
     },
     "execution_count": 134,
     "metadata": {},
     "output_type": "execute_result"
    }
   ],
   "source": [
    "train_dataset = torch.utils.data.TensorDataset(xtrain, ytrain)\n",
    "train_data_loader = torch.utils.data.DataLoader(train_dataset, batch_size=128,shuffle=True)\n",
    "test_dataset = torch.utils.data.TensorDataset(xtest, ytest)\n",
    "test_data_loader = torch.utils.data.DataLoader(test_dataset, batch_size=128,shuffle=True)\n",
    "len(train_data_loader)"
   ],
   "metadata": {
    "collapsed": false,
    "pycharm": {
     "name": "#%%\n"
    }
   }
  },
  {
   "cell_type": "code",
   "execution_count": 135,
   "outputs": [],
   "source": [
    "def train_model(epoch,mode, data_loader):\n",
    "    total_correct = 0\n",
    "    running_loss = 0\n",
    "    # Loop over the training data\n",
    "    pbar = tqdm(data_loader)\n",
    "    for inp, label in pbar:\n",
    "        # Zero the gradients\n",
    "        if mode=='train':\n",
    "            optimizer.zero_grad()\n",
    "\n",
    "        # Forward pass\n",
    "        outputs = model(inp)\n",
    "        acc = torch.round(outputs) == label\n",
    "        total_correct += acc.sum()\n",
    "\n",
    "        loss = criterion(outputs, label)\n",
    "\n",
    "        # Backward pass\n",
    "        if mode == 'train':\n",
    "            loss.backward()\n",
    "            optimizer.step()\n",
    "\n",
    "        # Update the running loss\n",
    "        running_loss += loss.item()\n",
    "        pbar.set_postfix_str(f'Epoch {epoch}: {mode}_loss = {loss.item():.4f} {mode}_acc = {acc.sum()/128:.4f}')\n",
    "    return running_loss, total_correct"
   ],
   "metadata": {
    "collapsed": false,
    "pycharm": {
     "name": "#%%\n"
    }
   }
  },
  {
   "cell_type": "code",
   "execution_count": 136,
   "outputs": [],
   "source": [
    "from tqdm import tqdm\n",
    "import warnings\n",
    "warnings.filterwarnings('ignore')\n",
    "\n",
    "\n",
    "def fit(model, num_epochs, start_epoch):\n",
    "    # Loop over the number of epochs\n",
    "    for epoch in range(start_epoch+1,num_epochs+1):\n",
    "        print(f'------------EPOCH-{epoch}------------')\n",
    "        # Set the model to training mode\n",
    "        model.train()\n",
    "        running_loss, total_correct = train_model(epoch,'train', train_data_loader)\n",
    "        # Calculate the average loss per epoch\n",
    "        epoch_loss = running_loss\n",
    "        total_acc = total_correct/(128*len(train_data_loader))\n",
    "        # Print the train loss for the epoch\n",
    "        print(f'Epoch {epoch}: train_loss = {epoch_loss:.4f} train_acc = {total_acc:.4f}')\n",
    "\n",
    "        model.eval()\n",
    "        running_loss, total_correct = train_model(epoch,'val', test_data_loader)\n",
    "        # Calculate the average loss per epoch\n",
    "        epoch_loss = running_loss\n",
    "        total_acc = total_correct/(128*len(test_data_loader))\n",
    "        # Print the test train loss for the epoch\n",
    "        print(f'Epoch {epoch}: val_loss = {epoch_loss:.4f} val_acc = {total_acc:.4f}')"
   ],
   "metadata": {
    "collapsed": false,
    "pycharm": {
     "name": "#%%\n"
    }
   }
  },
  {
   "cell_type": "code",
   "execution_count": 137,
   "outputs": [
    {
     "name": "stdout",
     "output_type": "stream",
     "text": [
      "------------EPOCH-1------------\n"
     ]
    },
    {
     "name": "stderr",
     "output_type": "stream",
     "text": [
      "100%|██████████| 130/130 [03:14<00:00,  1.49s/it, Epoch 1: train_loss = 0.6137 train_acc = 0.5547]\n"
     ]
    },
    {
     "name": "stdout",
     "output_type": "stream",
     "text": [
      "Epoch 1: train_loss = 86.4837 train_acc = 0.5323\n"
     ]
    },
    {
     "name": "stderr",
     "output_type": "stream",
     "text": [
      "100%|██████████| 33/33 [00:24<00:00,  1.32it/s, Epoch 1: val_loss = 0.6529 val_acc = 0.2969]\n"
     ]
    },
    {
     "name": "stdout",
     "output_type": "stream",
     "text": [
      "Epoch 1: val_loss = 20.2593 val_acc = 0.5689\n",
      "------------EPOCH-2------------\n"
     ]
    },
    {
     "name": "stderr",
     "output_type": "stream",
     "text": [
      "100%|██████████| 130/130 [03:10<00:00,  1.47s/it, Epoch 2: train_loss = 0.5576 train_acc = 0.6875]\n"
     ]
    },
    {
     "name": "stdout",
     "output_type": "stream",
     "text": [
      "Epoch 2: train_loss = 72.1489 train_acc = 0.6710\n"
     ]
    },
    {
     "name": "stderr",
     "output_type": "stream",
     "text": [
      "100%|██████████| 33/33 [00:23<00:00,  1.40it/s, Epoch 2: val_loss = 0.4184 val_acc = 0.4062]\n"
     ]
    },
    {
     "name": "stdout",
     "output_type": "stream",
     "text": [
      "Epoch 2: val_loss = 16.9841 val_acc = 0.7119\n",
      "------------EPOCH-3------------\n"
     ]
    },
    {
     "name": "stderr",
     "output_type": "stream",
     "text": [
      "100%|██████████| 130/130 [03:13<00:00,  1.48s/it, Epoch 3: train_loss = 0.3828 train_acc = 0.8516]\n"
     ]
    },
    {
     "name": "stdout",
     "output_type": "stream",
     "text": [
      "Epoch 3: train_loss = 58.1209 train_acc = 0.7653\n"
     ]
    },
    {
     "name": "stderr",
     "output_type": "stream",
     "text": [
      "100%|██████████| 33/33 [00:22<00:00,  1.47it/s, Epoch 3: val_loss = 0.3074 val_acc = 0.4688]\n"
     ]
    },
    {
     "name": "stdout",
     "output_type": "stream",
     "text": [
      "Epoch 3: val_loss = 13.2836 val_acc = 0.8357\n",
      "------------EPOCH-4------------\n"
     ]
    },
    {
     "name": "stderr",
     "output_type": "stream",
     "text": [
      "100%|██████████| 130/130 [03:05<00:00,  1.43s/it, Epoch 4: train_loss = 0.2890 train_acc = 0.9688]\n"
     ]
    },
    {
     "name": "stdout",
     "output_type": "stream",
     "text": [
      "Epoch 4: train_loss = 39.6229 train_acc = 0.9414\n"
     ]
    },
    {
     "name": "stderr",
     "output_type": "stream",
     "text": [
      "100%|██████████| 33/33 [00:21<00:00,  1.50it/s, Epoch 4: val_loss = 0.2115 val_acc = 0.4922]\n"
     ]
    },
    {
     "name": "stdout",
     "output_type": "stream",
     "text": [
      "Epoch 4: val_loss = 9.3871 val_acc = 0.9470\n",
      "------------EPOCH-5------------\n"
     ]
    },
    {
     "name": "stderr",
     "output_type": "stream",
     "text": [
      "100%|██████████| 130/130 [03:05<00:00,  1.43s/it, Epoch 5: train_loss = 0.1958 train_acc = 0.9844]\n"
     ]
    },
    {
     "name": "stdout",
     "output_type": "stream",
     "text": [
      "Epoch 5: train_loss = 30.4256 train_acc = 0.9683\n"
     ]
    },
    {
     "name": "stderr",
     "output_type": "stream",
     "text": [
      "100%|██████████| 33/33 [00:23<00:00,  1.43it/s, Epoch 5: val_loss = 0.2181 val_acc = 0.4922]"
     ]
    },
    {
     "name": "stdout",
     "output_type": "stream",
     "text": [
      "Epoch 5: val_loss = 8.5515 val_acc = 0.9612\n"
     ]
    },
    {
     "name": "stderr",
     "output_type": "stream",
     "text": [
      "\n"
     ]
    }
   ],
   "source": [
    "fit(model,5,0)"
   ],
   "metadata": {
    "collapsed": false,
    "pycharm": {
     "name": "#%%\n"
    }
   }
  },
  {
   "cell_type": "code",
   "execution_count": 138,
   "outputs": [],
   "source": [
    "torch.save({'epoch':5, \"model\":model.state_dict(), \"optimizer\":optimizer.state_dict()},'../models/model.pt')"
   ],
   "metadata": {
    "collapsed": false,
    "pycharm": {
     "name": "#%%\n"
    }
   }
  },
  {
   "cell_type": "code",
   "execution_count": 130,
   "outputs": [],
   "source": [],
   "metadata": {
    "collapsed": false,
    "pycharm": {
     "name": "#%%\n"
    }
   }
  }
 ],
 "metadata": {
  "kernelspec": {
   "display_name": "Python 3",
   "language": "python",
   "name": "python3"
  },
  "language_info": {
   "codemirror_mode": {
    "name": "ipython",
    "version": 2
   },
   "file_extension": ".py",
   "mimetype": "text/x-python",
   "name": "python",
   "nbconvert_exporter": "python",
   "pygments_lexer": "ipython2",
   "version": "2.7.6"
  }
 },
 "nbformat": 4,
 "nbformat_minor": 0
}